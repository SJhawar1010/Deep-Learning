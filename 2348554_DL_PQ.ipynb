{
  "nbformat": 4,
  "nbformat_minor": 0,
  "metadata": {
    "colab": {
      "provenance": [],
      "authorship_tag": "ABX9TyMzcqr01n6SFmGu2nqzPCwN",
      "include_colab_link": true
    },
    "kernelspec": {
      "name": "python3",
      "display_name": "Python 3"
    },
    "language_info": {
      "name": "python"
    }
  },
  "cells": [
    {
      "cell_type": "markdown",
      "metadata": {
        "id": "view-in-github",
        "colab_type": "text"
      },
      "source": [
        "<a href=\"https://colab.research.google.com/github/SJhawar1010/Deep-Learning/blob/main/2348554_DL_PQ.ipynb\" target=\"_parent\"><img src=\"https://colab.research.google.com/assets/colab-badge.svg\" alt=\"Open In Colab\"/></a>"
      ]
    },
    {
      "cell_type": "code",
      "execution_count": 2,
      "metadata": {
        "id": "3e2BJg6j7oSr"
      },
      "outputs": [],
      "source": [
        "import numpy as np"
      ]
    },
    {
      "cell_type": "code",
      "source": [
        "def sigmoid(x):\n",
        "    return 1 / (1 + np.exp(-x))"
      ],
      "metadata": {
        "id": "NV9GaX444xo1"
      },
      "execution_count": 10,
      "outputs": []
    },
    {
      "cell_type": "code",
      "source": [
        "def sigmoid_derivative(x):\n",
        "    return sigmoid(x) * (1 - sigmoid(x))"
      ],
      "metadata": {
        "id": "4B7Z85r_4xst"
      },
      "execution_count": 11,
      "outputs": []
    },
    {
      "cell_type": "code",
      "source": [
        "w1, w2, w3 = 1, 1, 1\n",
        "b1, b2, b3 = -0.5, -0.5, -0.5"
      ],
      "metadata": {
        "id": "vz111TD_4xwj"
      },
      "execution_count": 12,
      "outputs": []
    },
    {
      "cell_type": "code",
      "source": [
        "x = 0.5\n",
        "y = 1"
      ],
      "metadata": {
        "id": "w-LyfbC04x1_"
      },
      "execution_count": 13,
      "outputs": []
    },
    {
      "cell_type": "code",
      "source": [
        "eta = 0.1\n",
        "num = 2"
      ],
      "metadata": {
        "id": "np9Dy5XE4x6i"
      },
      "execution_count": 16,
      "outputs": []
    },
    {
      "cell_type": "code",
      "source": [
        "for iteration in range(num):\n",
        "    # Forward pass\n",
        "    z1 = w1 * x + b1\n",
        "    a1 = sigmoid(z1)\n",
        "\n",
        "    z2 = w2 * a1 + b2\n",
        "    a2 = sigmoid(z2)\n",
        "\n",
        "    z3 = w3 * a2 + b3\n",
        "    a3 = sigmoid(z3)\n",
        "\n",
        "    # Calculate error\n",
        "    error = 0.5 * (y - a3) ** 2\n",
        "\n",
        "    # Backward pass (Gradient Descent)\n",
        "    delta3 = -(y - a3) * sigmoid_derivative(z3)\n",
        "    delta2 = delta3 * w3 * sigmoid_derivative(z2)\n",
        "    delta1 = delta2 * w2 * sigmoid_derivative(z1)\n",
        "\n",
        "    # Update weights and biases\n",
        "    w3 -= eta * delta3 * a2\n",
        "    b3 -= eta * delta3\n",
        "\n",
        "    w2 -= eta * delta2 * a1\n",
        "    b2 -= eta * delta2\n",
        "\n",
        "    w1 -= eta * delta1 * x\n",
        "    b1 -= eta * delta1\n",
        "\n",
        "    # Print the results for each iteration\n",
        "    print(f\"Iteration {iteration + 1} - Output: {a3}, Error: {error}\")"
      ],
      "metadata": {
        "colab": {
          "base_uri": "https://localhost:8080/"
        },
        "id": "AFfQMRe54x-F",
        "outputId": "f44fe50c-783f-491b-d48c-e5ce44051c3b"
      },
      "execution_count": 17,
      "outputs": [
        {
          "output_type": "stream",
          "name": "stdout",
          "text": [
            "Iteration 1 - Output: 0.5, Error: 0.125\n",
            "Iteration 2 - Output: 0.5041671977837289, Error: 0.12292508387681993\n"
          ]
        }
      ]
    },
    {
      "cell_type": "code",
      "source": [
        "print(\"\\nFinal weights and biases:\")\n",
        "print(f\"w1: {w1}, b1: {b1}\")\n",
        "print(f\"w2: {w2}, b2: {b2}\")\n",
        "print(f\"w3: {w3}, b3: {b3}\")"
      ],
      "metadata": {
        "id": "tJleJ6Nt5Ka7",
        "outputId": "9653a25d-dca1-48cb-85b7-ff855a3a8e4c",
        "colab": {
          "base_uri": "https://localhost:8080/"
        }
      },
      "execution_count": 18,
      "outputs": [
        {
          "output_type": "stream",
          "name": "stdout",
          "text": [
            "\n",
            "Final weights and biases:\n",
            "w1: 1.0007809955904148, b1: -0.4984380088191705\n",
            "w2: 1.0031223079766625, b2: -0.4937569065531198\n",
            "w3: 1.0124603416515225, b3: -0.47510504098489875\n"
          ]
        }
      ]
    },
    {
      "cell_type": "code",
      "source": [
        "input = np.array([1, 2, 2, 1])\n",
        "b = 0\n",
        "W = np.array([0.25, 0.25, 0.25, 0.25])\n",
        "eresult = 2"
      ],
      "metadata": {
        "id": "CS1-d8R78CwV"
      },
      "execution_count": 3,
      "outputs": []
    },
    {
      "cell_type": "code",
      "source": [
        "l1_lambda = 0.01\n",
        "l1_loss = l1_lambda * np.sum(np.abs(W))"
      ],
      "metadata": {
        "id": "2WDl9U4U33G1"
      },
      "execution_count": 4,
      "outputs": []
    },
    {
      "cell_type": "code",
      "source": [
        "l2_lambda = 0.01\n",
        "l2_loss = 0.5 * l2_lambda * np.sum(W**2)"
      ],
      "metadata": {
        "id": "WkSmXgsr38Vz"
      },
      "execution_count": 6,
      "outputs": []
    },
    {
      "cell_type": "code",
      "source": [
        "e_net_lambda = 0.01\n",
        "a = 0.5\n",
        "ec_net_loss = a * l1_loss + (1 - a) * l2_loss"
      ],
      "metadata": {
        "id": "PbBI_p393-Ce"
      },
      "execution_count": 7,
      "outputs": []
    },
    {
      "cell_type": "code",
      "source": [
        "total_loss = np.sum((np.dot(input, W) + b - eresult)**2) + l1_loss + l2_loss + ec_net_loss"
      ],
      "metadata": {
        "id": "l1HzoiBd4Gff"
      },
      "execution_count": 8,
      "outputs": []
    },
    {
      "cell_type": "code",
      "source": [
        "print(f\"L1 Loss: {l1_loss}\")\n",
        "print(f\"L2 Loss: {l2_loss}\")\n",
        "print(f\"Elastic Net Loss: {ec_net_loss}\")\n",
        "print(f\"Total Loss: {total_loss}\")"
      ],
      "metadata": {
        "colab": {
          "base_uri": "https://localhost:8080/"
        },
        "id": "ZzY3F8Ck4O6J",
        "outputId": "6bd8edd0-34c0-48f5-f51b-41f63f487db6"
      },
      "execution_count": 9,
      "outputs": [
        {
          "output_type": "stream",
          "name": "stdout",
          "text": [
            "L1 Loss: 0.01\n",
            "L2 Loss: 0.00125\n",
            "Elastic Net Loss: 0.005625\n",
            "Total Loss: 0.266875\n"
          ]
        }
      ]
    },
    {
      "cell_type": "code",
      "source": [],
      "metadata": {
        "id": "cq2QaUin4Tst"
      },
      "execution_count": null,
      "outputs": []
    }
  ]
}