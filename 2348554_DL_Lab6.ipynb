{
  "cells": [
    {
      "cell_type": "markdown",
      "metadata": {
        "id": "view-in-github",
        "colab_type": "text"
      },
      "source": [
        "<a href=\"https://colab.research.google.com/github/SJhawar1010/Deep-Learning/blob/main/2348554_DL_Lab6.ipynb\" target=\"_parent\"><img src=\"https://colab.research.google.com/assets/colab-badge.svg\" alt=\"Open In Colab\"/></a>"
      ]
    },
    {
      "cell_type": "code",
      "execution_count": 1,
      "metadata": {
        "colab": {
          "base_uri": "https://localhost:8080/"
        },
        "id": "8LXi_4xlo3d0",
        "outputId": "4998d06a-fe8d-4b8b-d74c-fbfaf6c9bbaf"
      },
      "outputs": [
        {
          "output_type": "stream",
          "name": "stdout",
          "text": [
            "Mounted at /content/drive\n"
          ]
        }
      ],
      "source": [
        "from google.colab import drive\n",
        "drive.mount('/content/drive')"
      ]
    },
    {
      "cell_type": "code",
      "execution_count": 2,
      "metadata": {
        "id": "UnMMLTPKl83e"
      },
      "outputs": [],
      "source": [
        "import os\n",
        "import numpy as np\n",
        "import matplotlib.pyplot as plt\n",
        "from sklearn.metrics import accuracy_score, precision_score, recall_score, f1_score, roc_auc_score, confusion_matrix\n",
        "from tensorflow.keras.preprocessing.image import ImageDataGenerator\n",
        "from tensorflow.keras.models import Sequential\n",
        "from tensorflow.keras.layers import Conv2D, MaxPooling2D, Flatten, Dense, Dropout\n",
        "from tensorflow.keras.applications import VGG16, VGG19\n",
        "from tensorflow.keras.optimizers import SGD, Adam\n",
        "from tensorflow.keras.callbacks import EarlyStopping"
      ]
    },
    {
      "cell_type": "code",
      "source": [
        "train_path = '/content/drive/MyDrive/DL Datasets/Skin/train'\n",
        "test_path = '/content/drive/MyDrive/DL Datasets/Skin/test'"
      ],
      "metadata": {
        "id": "64H-_6RKKD4c"
      },
      "execution_count": 7,
      "outputs": []
    },
    {
      "cell_type": "code",
      "source": [
        "# Image data augmentation\n",
        "train_datagen = ImageDataGenerator(rescale=1./255,\n",
        "                                   rotation_range=40,\n",
        "                                   width_shift_range=0.2,\n",
        "                                   height_shift_range=0.2,\n",
        "                                   shear_range=0.2,\n",
        "                                   zoom_range=0.2,\n",
        "                                   horizontal_flip=True,\n",
        "                                   fill_mode='nearest')\n",
        "\n",
        "test_datagen = ImageDataGenerator(rescale=1./255)"
      ],
      "metadata": {
        "id": "6amrlJ2AKexi"
      },
      "execution_count": 8,
      "outputs": []
    },
    {
      "cell_type": "code",
      "source": [
        "# Define image size and batch size\n",
        "img_width, img_height = 150, 150\n",
        "batch_size = 32"
      ],
      "metadata": {
        "id": "w2dy4dLqNbfP"
      },
      "execution_count": 9,
      "outputs": []
    },
    {
      "cell_type": "code",
      "source": [
        "# Prepare training data generator\n",
        "train_generator = train_datagen.flow_from_directory(train_path,\n",
        "                                                    target_size=(img_width, img_height),\n",
        "                                                    batch_size=batch_size,\n",
        "                                                    class_mode='binary')\n",
        "\n",
        "# Prepare test data generator\n",
        "test_generator = test_datagen.flow_from_directory(test_path,\n",
        "                                                  target_size=(img_width, img_height),\n",
        "                                                  batch_size=batch_size,\n",
        "                                                  class_mode='binary')"
      ],
      "metadata": {
        "id": "mDLJ-bH9Nb1Y",
        "colab": {
          "base_uri": "https://localhost:8080/"
        },
        "outputId": "f192e1e7-e46a-45c2-86e4-e4313b79266d"
      },
      "execution_count": 10,
      "outputs": [
        {
          "output_type": "stream",
          "name": "stdout",
          "text": [
            "Found 2637 images belonging to 2 classes.\n",
            "Found 660 images belonging to 2 classes.\n"
          ]
        }
      ]
    },
    {
      "cell_type": "code",
      "source": [
        "# Custom CNN model\n",
        "custom_cnn = Sequential([\n",
        "    Conv2D(32, (3, 3), activation='relu', input_shape=(img_width, img_height, 3)),\n",
        "    MaxPooling2D((2, 2)),\n",
        "    Conv2D(64, (3, 3), activation='relu'),\n",
        "    MaxPooling2D((2, 2)),\n",
        "    Conv2D(128, (3, 3), activation='relu'),\n",
        "    MaxPooling2D((2, 2)),\n",
        "    Conv2D(256, (3, 3), activation='relu'),\n",
        "    MaxPooling2D((2, 2)),\n",
        "    Flatten(),\n",
        "    Dense(512, activation='relu'),\n",
        "    Dense(512, activation='relu'),\n",
        "    Dropout(0.5),\n",
        "    Dense(1, activation='sigmoid')\n",
        "])"
      ],
      "metadata": {
        "id": "eh-W9EjQNb45"
      },
      "execution_count": 11,
      "outputs": []
    },
    {
      "cell_type": "code",
      "source": [
        "# VGG16 model with ImageNet weights\n",
        "vgg16 = VGG16(weights='imagenet', include_top=False, input_shape=(img_width, img_height, 3))\n",
        "\n",
        "# Fine-tuning VGG16 model\n",
        "for layer in vgg16.layers:\n",
        "    layer.trainable = False\n",
        "\n",
        "# Add fully connected layers on top of VGG16\n",
        "vgg16_model = Sequential([\n",
        "    vgg16,\n",
        "    Flatten(),\n",
        "    Dense(512, activation='relu'),\n",
        "    Dense(512, activation='relu'),\n",
        "    Dropout(0.5),\n",
        "    Dense(1, activation='sigmoid')\n",
        "])"
      ],
      "metadata": {
        "id": "YJFInV7ONb8b",
        "colab": {
          "base_uri": "https://localhost:8080/"
        },
        "outputId": "eca8785d-8129-4fe2-fee2-9638b2173079"
      },
      "execution_count": 12,
      "outputs": [
        {
          "output_type": "stream",
          "name": "stdout",
          "text": [
            "Downloading data from https://storage.googleapis.com/tensorflow/keras-applications/vgg16/vgg16_weights_tf_dim_ordering_tf_kernels_notop.h5\n",
            "58889256/58889256 [==============================] - 0s 0us/step\n"
          ]
        }
      ]
    },
    {
      "cell_type": "code",
      "source": [
        "# VGG19 model with ImageNet weights\n",
        "vgg19 = VGG19(weights='imagenet', include_top=False, input_shape=(img_width, img_height, 3))\n",
        "\n",
        "# Fine-tuning VGG19 model\n",
        "for layer in vgg19.layers:\n",
        "    layer.trainable = False\n",
        "\n",
        "# Add fully connected layers on top of VGG19\n",
        "vgg19_model = Sequential([\n",
        "    vgg19,\n",
        "    Flatten(),\n",
        "    Dense(512, activation='relu'),\n",
        "    Dense(512, activation='relu'),\n",
        "    Dropout(0.5),\n",
        "    Dense(1, activation='sigmoid')\n",
        "])"
      ],
      "metadata": {
        "id": "e1PZBdn4NcA0",
        "colab": {
          "base_uri": "https://localhost:8080/"
        },
        "outputId": "57688fcb-c0b1-4702-f783-70da7eca2608"
      },
      "execution_count": 13,
      "outputs": [
        {
          "output_type": "stream",
          "name": "stdout",
          "text": [
            "Downloading data from https://storage.googleapis.com/tensorflow/keras-applications/vgg19/vgg19_weights_tf_dim_ordering_tf_kernels_notop.h5\n",
            "80134624/80134624 [==============================] - 1s 0us/step\n"
          ]
        }
      ]
    },
    {
      "cell_type": "code",
      "source": [
        "custom_cnn.compile(optimizer='adam', loss='binary_crossentropy', metrics=['accuracy'])\n",
        "vgg16_model.compile(optimizer='adam', loss='binary_crossentropy', metrics=['accuracy'])\n",
        "vgg19_model.compile(optimizer='adam', loss='binary_crossentropy', metrics=['accuracy'])"
      ],
      "metadata": {
        "id": "4mtTdohwNcEA"
      },
      "execution_count": 14,
      "outputs": []
    },
    {
      "cell_type": "code",
      "source": [
        "custom_cnn_history = custom_cnn.fit(train_generator,\n",
        "                                    steps_per_epoch=train_generator.samples // batch_size,\n",
        "                                    epochs=10,\n",
        "                                    validation_data=test_generator,\n",
        "                                    validation_steps=test_generator.samples // batch_size)"
      ],
      "metadata": {
        "id": "7JNExqazN3Gq",
        "colab": {
          "base_uri": "https://localhost:8080/"
        },
        "outputId": "9bb65d52-1de8-4fa2-e29e-98b37a2f27dc"
      },
      "execution_count": 16,
      "outputs": [
        {
          "output_type": "stream",
          "name": "stdout",
          "text": [
            "Epoch 1/10\n",
            "82/82 [==============================] - 691s 8s/step - loss: 0.6114 - accuracy: 0.6541 - val_loss: 0.6816 - val_accuracy: 0.4578\n",
            "Epoch 2/10\n",
            "82/82 [==============================] - 179s 2s/step - loss: 0.5487 - accuracy: 0.7263 - val_loss: 0.5089 - val_accuracy: 0.7266\n",
            "Epoch 3/10\n",
            "82/82 [==============================] - 182s 2s/step - loss: 0.4473 - accuracy: 0.7858 - val_loss: 0.4193 - val_accuracy: 0.7766\n",
            "Epoch 4/10\n",
            "82/82 [==============================] - 176s 2s/step - loss: 0.4487 - accuracy: 0.7889 - val_loss: 0.4363 - val_accuracy: 0.7828\n",
            "Epoch 5/10\n",
            "82/82 [==============================] - 177s 2s/step - loss: 0.4621 - accuracy: 0.7731 - val_loss: 0.3977 - val_accuracy: 0.8000\n",
            "Epoch 6/10\n",
            "82/82 [==============================] - 177s 2s/step - loss: 0.4152 - accuracy: 0.7996 - val_loss: 0.3817 - val_accuracy: 0.8094\n",
            "Epoch 7/10\n",
            "82/82 [==============================] - 169s 2s/step - loss: 0.4285 - accuracy: 0.7919 - val_loss: 0.4348 - val_accuracy: 0.7563\n",
            "Epoch 8/10\n",
            "82/82 [==============================] - 174s 2s/step - loss: 0.4277 - accuracy: 0.7965 - val_loss: 0.4359 - val_accuracy: 0.7750\n",
            "Epoch 9/10\n",
            "82/82 [==============================] - 178s 2s/step - loss: 0.4238 - accuracy: 0.7950 - val_loss: 0.4179 - val_accuracy: 0.7812\n",
            "Epoch 10/10\n",
            "82/82 [==============================] - 170s 2s/step - loss: 0.4175 - accuracy: 0.8031 - val_loss: 0.3860 - val_accuracy: 0.7922\n"
          ]
        }
      ]
    },
    {
      "cell_type": "code",
      "source": [
        "vgg16_history = vgg16_model.fit(train_generator,\n",
        "                                steps_per_epoch=train_generator.samples // batch_size,\n",
        "                                epochs=10,\n",
        "                                validation_data=test_generator,\n",
        "                                validation_steps=test_generator.samples // batch_size)"
      ],
      "metadata": {
        "id": "vAmCUgYNN3Kk",
        "colab": {
          "base_uri": "https://localhost:8080/"
        },
        "outputId": "3fadf886-f967-44e0-b11c-89c827ac1274"
      },
      "execution_count": 17,
      "outputs": [
        {
          "output_type": "stream",
          "name": "stdout",
          "text": [
            "Epoch 1/10\n",
            "82/82 [==============================] - 830s 10s/step - loss: 0.5661 - accuracy: 0.7301 - val_loss: 0.4445 - val_accuracy: 0.8016\n",
            "Epoch 2/10\n",
            "82/82 [==============================] - 773s 9s/step - loss: 0.4141 - accuracy: 0.8192 - val_loss: 0.3989 - val_accuracy: 0.8203\n",
            "Epoch 3/10\n",
            "82/82 [==============================] - 825s 10s/step - loss: 0.3848 - accuracy: 0.8188 - val_loss: 0.3704 - val_accuracy: 0.8297\n",
            "Epoch 4/10\n",
            "82/82 [==============================] - 771s 9s/step - loss: 0.3863 - accuracy: 0.8119 - val_loss: 0.3937 - val_accuracy: 0.8156\n",
            "Epoch 5/10\n",
            "82/82 [==============================] - 825s 10s/step - loss: 0.3617 - accuracy: 0.8250 - val_loss: 0.3543 - val_accuracy: 0.8344\n",
            "Epoch 6/10\n",
            "82/82 [==============================] - 831s 10s/step - loss: 0.3679 - accuracy: 0.8230 - val_loss: 0.3619 - val_accuracy: 0.8375\n",
            "Epoch 7/10\n",
            "82/82 [==============================] - 774s 9s/step - loss: 0.3491 - accuracy: 0.8349 - val_loss: 0.3871 - val_accuracy: 0.8219\n",
            "Epoch 8/10\n",
            "82/82 [==============================] - 823s 10s/step - loss: 0.3448 - accuracy: 0.8342 - val_loss: 0.3525 - val_accuracy: 0.8359\n",
            "Epoch 9/10\n",
            "82/82 [==============================] - 769s 9s/step - loss: 0.3352 - accuracy: 0.8403 - val_loss: 0.3520 - val_accuracy: 0.8297\n",
            "Epoch 10/10\n",
            "82/82 [==============================] - 771s 9s/step - loss: 0.3436 - accuracy: 0.8357 - val_loss: 0.3736 - val_accuracy: 0.8172\n"
          ]
        }
      ]
    },
    {
      "cell_type": "code",
      "source": [
        "vgg19_history = vgg19_model.fit(train_generator,\n",
        "                                steps_per_epoch=train_generator.samples // batch_size,\n",
        "                                epochs=10,\n",
        "                                validation_data=test_generator,\n",
        "                                validation_steps=test_generator.samples // batch_size)"
      ],
      "metadata": {
        "id": "j73JxbWXN3Nv",
        "colab": {
          "base_uri": "https://localhost:8080/"
        },
        "outputId": "1e719b43-3ba9-481f-a717-66803eec12a3"
      },
      "execution_count": 18,
      "outputs": [
        {
          "output_type": "stream",
          "name": "stdout",
          "text": [
            "Epoch 1/10\n",
            "82/82 [==============================] - 988s 12s/step - loss: 0.6712 - accuracy: 0.6737 - val_loss: 0.4382 - val_accuracy: 0.7859\n",
            "Epoch 2/10\n",
            "82/82 [==============================] - 971s 12s/step - loss: 0.4652 - accuracy: 0.7724 - val_loss: 0.3980 - val_accuracy: 0.8125\n",
            "Epoch 3/10\n",
            "82/82 [==============================] - 955s 12s/step - loss: 0.4238 - accuracy: 0.8081 - val_loss: 0.3935 - val_accuracy: 0.8000\n",
            "Epoch 4/10\n",
            "82/82 [==============================] - 974s 12s/step - loss: 0.4017 - accuracy: 0.8123 - val_loss: 0.4159 - val_accuracy: 0.8000\n",
            "Epoch 5/10\n",
            "82/82 [==============================] - 972s 12s/step - loss: 0.3883 - accuracy: 0.8161 - val_loss: 0.3633 - val_accuracy: 0.8156\n",
            "Epoch 6/10\n",
            "82/82 [==============================] - 975s 12s/step - loss: 0.3684 - accuracy: 0.8207 - val_loss: 0.3520 - val_accuracy: 0.8313\n",
            "Epoch 7/10\n",
            "82/82 [==============================] - 967s 12s/step - loss: 0.3884 - accuracy: 0.8165 - val_loss: 0.3605 - val_accuracy: 0.8297\n",
            "Epoch 8/10\n",
            "82/82 [==============================] - 964s 12s/step - loss: 0.3674 - accuracy: 0.8280 - val_loss: 0.3414 - val_accuracy: 0.8328\n",
            "Epoch 9/10\n",
            "82/82 [==============================] - 962s 12s/step - loss: 0.3659 - accuracy: 0.8280 - val_loss: 0.3363 - val_accuracy: 0.8266\n",
            "Epoch 10/10\n",
            "82/82 [==============================] - 964s 12s/step - loss: 0.3514 - accuracy: 0.8357 - val_loss: 0.3377 - val_accuracy: 0.8328\n"
          ]
        }
      ]
    },
    {
      "cell_type": "code",
      "source": [
        "plt.plot(custom_cnn_history.history['accuracy'], label='Custom CNN Training Accuracy')\n",
        "plt.plot(custom_cnn_history.history['val_accuracy'], label='Custom CNN Validation Accuracy')\n",
        "plt.plot(vgg16_history.history['accuracy'], label='VGG16 Training Accuracy')\n",
        "plt.plot(vgg16_history.history['val_accuracy'], label='VGG16 Validation Accuracy')\n",
        "plt.plot(vgg19_history.history['accuracy'], label='VGG19 Training Accuracy')\n",
        "plt.plot(vgg19_history.history['val_accuracy'], label='VGG19 Validation Accuracy')\n",
        "plt.xlabel('Epoch')\n",
        "plt.ylabel('Accuracy')\n",
        "plt.legend()\n",
        "plt.title('Training and Validation Accuracy')\n",
        "plt.show()"
      ],
      "metadata": {
        "id": "iREj8A1SN3Q8",
        "colab": {
          "base_uri": "https://localhost:8080/",
          "height": 472
        },
        "outputId": "489f747b-d726-4730-f3c0-fee097a51b3a"
      },
      "execution_count": 19,
      "outputs": [
        {
          "output_type": "display_data",
          "data": {
            "text/plain": [
              "<Figure size 640x480 with 1 Axes>"
            ],
            "image/png": "[encoded data removed]"
          },
          "metadata": {}
        }
      ]
    },
    {
      "cell_type": "code",
      "source": [
        "custom_cnn.evaluate(test_generator)"
      ],
      "metadata": {
        "id": "Y08uXSBrN3UT",
        "colab": {
          "base_uri": "https://localhost:8080/"
        },
        "outputId": "121ec589-35e2-4820-8557-e3e333a3fee7"
      },
      "execution_count": 20,
      "outputs": [
        {
          "output_type": "stream",
          "name": "stdout",
          "text": [
            "21/21 [==============================] - 12s 557ms/step - loss: 0.3811 - accuracy: 0.7970\n"
          ]
        },
        {
          "output_type": "execute_result",
          "data": {
            "text/plain": [
              "[0.3810758590698242, 0.7969697117805481]"
            ]
          },
          "metadata": {},
          "execution_count": 20
        }
      ]
    },
    {
      "cell_type": "code",
      "source": [
        "# Evaluate VGG16 model\n",
        "vgg16_model.evaluate(test_generator)"
      ],
      "metadata": {
        "id": "koHFpOoYN3Xs"
      },
      "execution_count": null,
      "outputs": []
    },
    {
      "cell_type": "code",
      "source": [
        "# Evaluate VGG19 model\n",
        "vgg19_model.evaluate(test_generator)"
      ],
      "metadata": {
        "id": "2jx4XsKZN3a0"
      },
      "execution_count": null,
      "outputs": []
    },
    {
      "cell_type": "code",
      "source": [
        "custom_cnn_preds = custom_cnn.predict(test_generator).flatten()"
      ],
      "metadata": {
        "id": "DcdG7TZfN3eN",
        "colab": {
          "base_uri": "https://localhost:8080/"
        },
        "outputId": "68f5de8a-fcf6-4b8f-cef9-d52a7fe7e170"
      },
      "execution_count": 23,
      "outputs": [
        {
          "output_type": "stream",
          "name": "stdout",
          "text": [
            "21/21 [==============================] - 12s 528ms/step\n"
          ]
        }
      ]
    },
    {
      "cell_type": "code",
      "source": [
        "# Predictions for VGG16\n",
        "vgg16_preds = vgg16_model.predict(test_generator).flatten()"
      ],
      "metadata": {
        "id": "oKaz94bdN3h3"
      },
      "execution_count": null,
      "outputs": []
    },
    {
      "cell_type": "code",
      "source": [
        "# Predictions for VGG19\n",
        "vgg19_preds = vgg19_model.predict(test_generator).flatten()"
      ],
      "metadata": {
        "id": "aDT9Nw3QOSrQ"
      },
      "execution_count": null,
      "outputs": []
    },
    {
      "cell_type": "code",
      "source": [
        "custom_cnn_preds_binary = np.where(custom_cnn_preds > 0.5, 1, 0)\n",
        "vgg16_preds_binary = np.where(vgg16_preds > 0.5, 1, 0)\n",
        "vgg19_preds_binary = np.where(vgg19_preds > 0.5, 1, 0)"
      ],
      "metadata": {
        "id": "mmsWZuxROSui"
      },
      "execution_count": null,
      "outputs": []
    },
    {
      "cell_type": "code",
      "source": [
        "custom_cnn_accuracy = accuracy_score(test_generator.labels, custom_cnn_preds_binary)\n",
        "vgg16_accuracy = accuracy_score(test_generator.labels, vgg16_preds_binary)\n",
        "vgg19_accuracy = accuracy_score(test_generator.labels, vgg19_preds_binary)"
      ],
      "metadata": {
        "id": "5PEaL4FEOSxg"
      },
      "execution_count": 27,
      "outputs": []
    },
    {
      "cell_type": "code",
      "source": [
        "custom_cnn_precision = precision_score(test_generator.labels, custom_cnn_preds_binary)\n",
        "vgg16_precision = precision_score(test_generator.labels, vgg16_preds_binary)\n",
        "vgg19_precision = precision_score(test_generator.labels, vgg19_preds_binary)"
      ],
      "metadata": {
        "id": "hA-FbxiKOS0U"
      },
      "execution_count": null,
      "outputs": []
    },
    {
      "cell_type": "code",
      "source": [
        "custom_cnn_recall = recall_score(test_generator.labels, custom_cnn_preds_binary)\n",
        "vgg16_recall = recall_score(test_generator.labels, vgg16_preds_binary)\n",
        "vgg19_recall = recall_score(test_generator.labels, vgg19_preds_binary)"
      ],
      "metadata": {
        "id": "2wkZcbO4OS3j"
      },
      "execution_count": null,
      "outputs": []
    },
    {
      "cell_type": "code",
      "source": [
        "custom_cnn_f1_score = f1_score(test_generator.labels, custom_cnn_preds_binary)\n",
        "vgg16_f1_score = f1_score(test_generator.labels, vgg16_preds_binary)\n",
        "vgg19_f1_score = f1_score(test_generator.labels, vgg19_preds_binary)"
      ],
      "metadata": {
        "id": "UDSuUs1jOhsi"
      },
      "execution_count": 30,
      "outputs": []
    },
    {
      "cell_type": "code",
      "source": [
        "custom_cnn_roc_auc = roc_auc_score(test_generator.labels, custom_cnn_preds)\n",
        "vgg16_roc_auc = roc_auc_score(test_generator.labels, vgg16_preds)\n",
        "vgg19_roc_auc = roc_auc_score(test_generator.labels, vgg19_preds)"
      ],
      "metadata": {
        "id": "IYZdHi4_Ohvs"
      },
      "execution_count": 31,
      "outputs": []
    },
    {
      "cell_type": "code",
      "source": [
        "print(\"Custom CNN Model Metrics:\")\n",
        "print(\"Accuracy:\", custom_cnn_accuracy)\n",
        "print(\"Precision:\", custom_cnn_precision)\n",
        "print(\"Recall:\", custom_cnn_recall)\n",
        "print(\"F1 Score:\", custom_cnn_f1_score)\n",
        "print(\"ROC AUC Score:\", custom_cnn_roc_auc)"
      ],
      "metadata": {
        "id": "SB0NYk6FOhzd",
        "colab": {
          "base_uri": "https://localhost:8080/"
        },
        "outputId": "a0de4884-e7c9-4a07-9706-67186ee809e3"
      },
      "execution_count": 32,
      "outputs": [
        {
          "output_type": "stream",
          "name": "stdout",
          "text": [
            "Custom CNN Model Metrics:\n",
            "Accuracy: 0.4636363636363636\n",
            "Precision: 0.43601895734597157\n",
            "Recall: 0.6133333333333333\n",
            "F1 Score: 0.5096952908587258\n",
            "ROC AUC Score: 0.4696481481481482\n"
          ]
        }
      ]
    },
    {
      "cell_type": "code",
      "source": [
        "print(\"\\nVGG16 Model Metrics:\")\n",
        "print(\"Accuracy:\", vgg16_accuracy)\n",
        "print(\"Precision:\", vgg16_precision)\n",
        "print(\"Recall:\", vgg16_recall)\n",
        "print(\"F1 Score:\", vgg16_f1_score)\n",
        "print(\"ROC AUC Score:\", vgg16_roc_auc)"
      ],
      "metadata": {
        "id": "EQdXAuvmOh2t",
        "colab": {
          "base_uri": "https://localhost:8080/"
        },
        "outputId": "880012f9-64c2-413a-fdb0-5605bc839676"
      },
      "execution_count": 33,
      "outputs": [
        {
          "output_type": "stream",
          "name": "stdout",
          "text": [
            "\n",
            "VGG16 Model Metrics:\n",
            "Accuracy: 0.4863636363636364\n",
            "Precision: 0.45185185185185184\n",
            "Recall: 0.61\n",
            "F1 Score: 0.5191489361702127\n",
            "ROC AUC Score: 0.4822592592592592\n"
          ]
        }
      ]
    },
    {
      "cell_type": "code",
      "source": [
        "print(\"\\nVGG19 Model Metrics:\")\n",
        "print(\"Accuracy:\", vgg19_accuracy)\n",
        "print(\"Precision:\", vgg19_precision)\n",
        "print(\"Recall:\", vgg19_recall)\n",
        "print(\"F1 Score:\", vgg19_f1_score)\n",
        "print(\"ROC AUC Score:\", vgg19_roc_auc)"
      ],
      "metadata": {
        "id": "qDLfF70vOh5x",
        "colab": {
          "base_uri": "https://localhost:8080/"
        },
        "outputId": "49541205-a67b-4d08-fb51-acc41aab3b82"
      },
      "execution_count": 34,
      "outputs": [
        {
          "output_type": "stream",
          "name": "stdout",
          "text": [
            "\n",
            "VGG19 Model Metrics:\n",
            "Accuracy: 0.4863636363636364\n",
            "Precision: 0.44072948328267475\n",
            "Recall: 0.48333333333333334\n",
            "F1 Score: 0.4610492845786963\n",
            "ROC AUC Score: 0.5026203703703703\n",
            "\n",
            "VGG19 Model Metrics:\n",
            "Accuracy: 0.4863636363636364\n",
            "Precision: 0.44072948328267475\n",
            "Recall: 0.48333333333333334\n",
            "F1 Score: 0.4610492845786963\n",
            "ROC AUC Score: 0.5026203703703703\n"
          ]
        }
      ]
    },
    {
      "cell_type": "code",
      "source": [],
      "metadata": {
        "id": "hnKS7e1_xaX9"
      },
      "execution_count": null,
      "outputs": []
    }
  ],
  "metadata": {
    "colab": {
      "provenance": [],
      "authorship_tag": "ABX9TyMQr+om0icXPNjceeXAF8kd",
      "include_colab_link": true
    },
    "kernelspec": {
      "display_name": "Python 3",
      "name": "python3"
    },
    "language_info": {
      "name": "python"
    }
  },
  "nbformat": 4,
  "nbformat_minor": 0
}